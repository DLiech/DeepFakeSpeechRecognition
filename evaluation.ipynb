{
 "cells": [
  {
   "cell_type": "markdown",
   "metadata": {},
   "source": [
    "# Read preprocessed data"
   ]
  },
  {
   "cell_type": "code",
   "execution_count": 13,
   "metadata": {},
   "outputs": [],
   "source": [
    "import pandas as pd\n",
    "from sklearn.model_selection import train_test_split\n",
    "from sklearn.preprocessing import MinMaxScaler\n",
    "\n",
    "df_filtered = pd.read_csv('audio_preprocessed.csv')\n",
    "\n",
    "df_filtered = df_filtered.sample(frac=1).reset_index(drop=True)\n",
    "x = df_filtered.drop('LABEL_REAL', axis=1)\n",
    "y = df_filtered['LABEL_REAL']\n",
    "xtrain,xtest,ytrain,ytest = train_test_split(x,y,test_size = 0.2)\n",
    "\n",
    "# INI BUAT SCENARIO 2, SCENARIO 1 GA MAKE SCALER\n",
    "scaler = MinMaxScaler()\n",
    "xtrain_scen2 = scaler.fit_transform(xtrain)\n",
    "xtest_scen2 = scaler.transform(xtest)"
   ]
  },
  {
   "cell_type": "markdown",
   "metadata": {},
   "source": [
    "# Load Model"
   ]
  },
  {
   "cell_type": "code",
   "execution_count": 14,
   "metadata": {},
   "outputs": [],
   "source": [
    "from keras.models import load_model\n",
    "\n",
    "model_path = 'scenario1.keras'\n",
    "scenario1_model = load_model(model_path)\n",
    "\n",
    "model_path = 'model.keras'\n",
    "scenario2_model = load_model(model_path)"
   ]
  },
  {
   "cell_type": "markdown",
   "metadata": {},
   "source": [
    "# Classification Report"
   ]
  },
  {
   "cell_type": "code",
   "execution_count": 15,
   "metadata": {},
   "outputs": [
    {
     "name": "stdout",
     "output_type": "stream",
     "text": [
      "\u001b[1m188/188\u001b[0m \u001b[32m━━━━━━━━━━━━━━━━━━━━\u001b[0m\u001b[37m\u001b[0m \u001b[1m0s\u001b[0m 1ms/step\n",
      "\u001b[1m188/188\u001b[0m \u001b[32m━━━━━━━━━━━━━━━━━━━━\u001b[0m\u001b[37m\u001b[0m \u001b[1m0s\u001b[0m 2ms/step\n",
      "Scenario 1: \n",
      "              precision    recall  f1-score   support\n",
      "\n",
      "       False       0.98      0.99      0.99      5235\n",
      "        True       0.94      0.86      0.90       758\n",
      "\n",
      "    accuracy                           0.97      5993\n",
      "   macro avg       0.96      0.93      0.94      5993\n",
      "weighted avg       0.97      0.97      0.97      5993\n",
      "\n",
      "Scenario 2: \n",
      "              precision    recall  f1-score   support\n",
      "\n",
      "       False       0.98      0.99      0.99      5235\n",
      "        True       0.94      0.86      0.89       758\n",
      "\n",
      "    accuracy                           0.97      5993\n",
      "   macro avg       0.96      0.92      0.94      5993\n",
      "weighted avg       0.97      0.97      0.97      5993\n",
      "\n"
     ]
    }
   ],
   "source": [
    "from sklearn.metrics import classification_report\n",
    "\n",
    "ypred_scen1 = scenario1_model.predict(xtest)\n",
    "ypred_scen1 = (ypred_scen1  > 0.5).astype(int)\n",
    "\n",
    "ypred_scen2 = scenario2_model.predict(xtest_scen2)\n",
    "ypred_scen2 = (ypred_scen2  > 0.5).astype(int)\n",
    "\n",
    "report_scen1 = classification_report(ytest, ypred_scen1)\n",
    "report_scen2 = classification_report(ytest, ypred_scen2)\n",
    "\n",
    "print(f'Scenario 1: \\n{report_scen1}')\n",
    "print(f'Scenario 2: \\n{report_scen2}')"
   ]
  }
 ],
 "metadata": {
  "kernelspec": {
   "display_name": "Python 3",
   "language": "python",
   "name": "python3"
  },
  "language_info": {
   "codemirror_mode": {
    "name": "ipython",
    "version": 3
   },
   "file_extension": ".py",
   "mimetype": "text/x-python",
   "name": "python",
   "nbconvert_exporter": "python",
   "pygments_lexer": "ipython3",
   "version": "3.10.11"
  }
 },
 "nbformat": 4,
 "nbformat_minor": 2
}
